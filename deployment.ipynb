{
 "cells": [
  {
   "cell_type": "code",
   "execution_count": 1,
   "metadata": {
    "executionInfo": {
     "elapsed": 1704,
     "status": "ok",
     "timestamp": 1606731504328,
     "user": {
      "displayName": "Richard C",
      "photoUrl": "",
      "userId": "08040814671867660929"
     },
     "user_tz": -180
    },
    "id": "sy5EcZ65lzy-"
   },
   "outputs": [],
   "source": [
    "import pandas as pd      \n",
    "import numpy as np \n",
    "from sklearn.metrics import mean_squared_error, mean_absolute_error, r2_score\n",
    "from sklearn.model_selection import train_test_split\n",
    "import warnings\n",
    "warnings.filterwarnings('ignore')"
   ]
  },
  {
   "cell_type": "code",
   "execution_count": 66,
   "metadata": {},
   "outputs": [],
   "source": [
    "#pip install streamlit==1.22.0"
   ]
  },
  {
   "cell_type": "code",
   "execution_count": 64,
   "metadata": {},
   "outputs": [],
   "source": [
    "#pip install scikit-learn==1.2.2"
   ]
  },
  {
   "cell_type": "code",
   "execution_count": 15,
   "metadata": {},
   "outputs": [
    {
     "name": "stdout",
     "output_type": "stream",
     "text": [
      "Collecting seaborn\n",
      "  Using cached seaborn-0.13.2-py3-none-any.whl (294 kB)\n",
      "Collecting matplotlib!=3.6.1,>=3.4\n",
      "  Using cached matplotlib-3.8.4-cp310-cp310-win_amd64.whl (7.7 MB)\n",
      "Requirement already satisfied: pandas>=1.2 in d:\\de08tr_mld9\\env_name\\lib\\site-packages (from seaborn) (2.2.2)\n",
      "Requirement already satisfied: numpy!=1.24.0,>=1.20 in d:\\de08tr_mld9\\env_name\\lib\\site-packages (from seaborn) (1.26.4)\n",
      "Collecting contourpy>=1.0.1\n",
      "  Using cached contourpy-1.2.1-cp310-cp310-win_amd64.whl (187 kB)\n",
      "Collecting pyparsing>=2.3.1\n",
      "  Using cached pyparsing-3.1.2-py3-none-any.whl (103 kB)\n",
      "Requirement already satisfied: pillow>=8 in d:\\de08tr_mld9\\env_name\\lib\\site-packages (from matplotlib!=3.6.1,>=3.4->seaborn) (10.3.0)\n",
      "Requirement already satisfied: python-dateutil>=2.7 in d:\\de08tr_mld9\\env_name\\lib\\site-packages (from matplotlib!=3.6.1,>=3.4->seaborn) (2.9.0.post0)\n",
      "Collecting kiwisolver>=1.3.1\n",
      "  Using cached kiwisolver-1.4.5-cp310-cp310-win_amd64.whl (56 kB)\n",
      "Collecting fonttools>=4.22.0\n",
      "  Using cached fonttools-4.51.0-cp310-cp310-win_amd64.whl (2.2 MB)\n",
      "Collecting cycler>=0.10\n",
      "  Using cached cycler-0.12.1-py3-none-any.whl (8.3 kB)\n",
      "Requirement already satisfied: packaging>=20.0 in d:\\de08tr_mld9\\env_name\\lib\\site-packages (from matplotlib!=3.6.1,>=3.4->seaborn) (24.0)\n",
      "Requirement already satisfied: tzdata>=2022.7 in d:\\de08tr_mld9\\env_name\\lib\\site-packages (from pandas>=1.2->seaborn) (2024.1)\n",
      "Requirement already satisfied: pytz>=2020.1 in d:\\de08tr_mld9\\env_name\\lib\\site-packages (from pandas>=1.2->seaborn) (2024.1)\n",
      "Requirement already satisfied: six>=1.5 in d:\\de08tr_mld9\\env_name\\lib\\site-packages (from python-dateutil>=2.7->matplotlib!=3.6.1,>=3.4->seaborn) (1.16.0)\n",
      "Installing collected packages: pyparsing, kiwisolver, fonttools, cycler, contourpy, matplotlib, seaborn\n",
      "Successfully installed contourpy-1.2.1 cycler-0.12.1 fonttools-4.51.0 kiwisolver-1.4.5 matplotlib-3.8.4 pyparsing-3.1.2 seaborn-0.13.2\n",
      "Note: you may need to restart the kernel to use updated packages.\n"
     ]
    },
    {
     "name": "stderr",
     "output_type": "stream",
     "text": [
      "\n",
      "[notice] A new release of pip is available: 23.0.1 -> 24.0\n",
      "[notice] To update, run: python.exe -m pip install --upgrade pip\n"
     ]
    }
   ],
   "source": [
    "# pip install seaborn"
   ]
  },
  {
   "cell_type": "code",
   "execution_count": 2,
   "metadata": {
    "executionInfo": {
     "elapsed": 825,
     "status": "ok",
     "timestamp": 1606731524112,
     "user": {
      "displayName": "Richard C",
      "photoUrl": "",
      "userId": "08040814671867660929"
     },
     "user_tz": -180
    },
    "id": "-AJL3lU-lzzA"
   },
   "outputs": [],
   "source": [
    "def eval_metrics(actual, pred):\n",
    "    rmse = np.sqrt(mean_squared_error(actual, pred))\n",
    "    mae = mean_absolute_error(actual, pred)\n",
    "    mse = mean_squared_error(actual, pred)\n",
    "    score = r2_score(actual, pred)\n",
    "    return print(\" r2_score:\", score, \"\\n\",\"mae:\", mae, \"\\n\",\"mse:\",mse, \"\\n\",\"rmse:\",rmse)"
   ]
  },
  {
   "cell_type": "code",
   "execution_count": 3,
   "metadata": {},
   "outputs": [],
   "source": [
    "df=pd.read_csv(\"final_scout_not_dummy.csv\")\n",
    "pd.set_option('display.max_columns',  None)\n",
    "pd.options.display.float_format = '{:,.1f}'.format"
   ]
  },
  {
   "cell_type": "code",
   "execution_count": 4,
   "metadata": {},
   "outputs": [
    {
     "data": {
      "text/html": [
       "<div>\n",
       "<style scoped>\n",
       "    .dataframe tbody tr th:only-of-type {\n",
       "        vertical-align: middle;\n",
       "    }\n",
       "\n",
       "    .dataframe tbody tr th {\n",
       "        vertical-align: top;\n",
       "    }\n",
       "\n",
       "    .dataframe thead th {\n",
       "        text-align: right;\n",
       "    }\n",
       "</style>\n",
       "<table border=\"1\" class=\"dataframe\">\n",
       "  <thead>\n",
       "    <tr style=\"text-align: right;\">\n",
       "      <th></th>\n",
       "      <th>make_model</th>\n",
       "      <th>body_type</th>\n",
       "      <th>price</th>\n",
       "      <th>vat</th>\n",
       "      <th>km</th>\n",
       "      <th>Type</th>\n",
       "      <th>Fuel</th>\n",
       "      <th>Gears</th>\n",
       "      <th>Comfort_Convenience</th>\n",
       "      <th>Entertainment_Media</th>\n",
       "      <th>Extras</th>\n",
       "      <th>Safety_Security</th>\n",
       "      <th>age</th>\n",
       "      <th>Previous_Owners</th>\n",
       "      <th>hp_kW</th>\n",
       "      <th>Inspection_new</th>\n",
       "      <th>Paint_Type</th>\n",
       "      <th>Upholstery_type</th>\n",
       "      <th>Gearing_Type</th>\n",
       "      <th>Displacement_cc</th>\n",
       "      <th>Weight_kg</th>\n",
       "      <th>Drive_chain</th>\n",
       "      <th>cons_comb</th>\n",
       "    </tr>\n",
       "  </thead>\n",
       "  <tbody>\n",
       "    <tr>\n",
       "      <th>0</th>\n",
       "      <td>Audi A1</td>\n",
       "      <td>Sedans</td>\n",
       "      <td>15770</td>\n",
       "      <td>VAT deductible</td>\n",
       "      <td>56,013.0</td>\n",
       "      <td>Used</td>\n",
       "      <td>Diesel</td>\n",
       "      <td>7.0</td>\n",
       "      <td>Air conditioning,Armrest,Automatic climate con...</td>\n",
       "      <td>Bluetooth,Hands-free equipment,On-board comput...</td>\n",
       "      <td>Alloy wheels,Catalytic Converter,Voice Control</td>\n",
       "      <td>ABS,Central door lock,Daytime running lights,D...</td>\n",
       "      <td>3.0</td>\n",
       "      <td>2.0</td>\n",
       "      <td>66.0</td>\n",
       "      <td>1</td>\n",
       "      <td>Metallic</td>\n",
       "      <td>Cloth</td>\n",
       "      <td>Automatic</td>\n",
       "      <td>1,422.0</td>\n",
       "      <td>1,220.0</td>\n",
       "      <td>front</td>\n",
       "      <td>3.8</td>\n",
       "    </tr>\n",
       "  </tbody>\n",
       "</table>\n",
       "</div>"
      ],
      "text/plain": [
       "  make_model body_type  price             vat       km  Type    Fuel  Gears  \\\n",
       "0    Audi A1    Sedans  15770  VAT deductible 56,013.0  Used  Diesel    7.0   \n",
       "\n",
       "                                 Comfort_Convenience  \\\n",
       "0  Air conditioning,Armrest,Automatic climate con...   \n",
       "\n",
       "                                 Entertainment_Media  \\\n",
       "0  Bluetooth,Hands-free equipment,On-board comput...   \n",
       "\n",
       "                                           Extras  \\\n",
       "0  Alloy wheels,Catalytic Converter,Voice Control   \n",
       "\n",
       "                                     Safety_Security  age  Previous_Owners  \\\n",
       "0  ABS,Central door lock,Daytime running lights,D...  3.0              2.0   \n",
       "\n",
       "   hp_kW  Inspection_new Paint_Type Upholstery_type Gearing_Type  \\\n",
       "0   66.0               1   Metallic           Cloth    Automatic   \n",
       "\n",
       "   Displacement_cc  Weight_kg Drive_chain  cons_comb  \n",
       "0          1,422.0    1,220.0       front        3.8  "
      ]
     },
     "execution_count": 4,
     "metadata": {},
     "output_type": "execute_result"
    }
   ],
   "source": [
    "df.head(1)\n",
    "#df.sample()\n",
    "#df.tail(1)"
   ]
  },
  {
   "cell_type": "code",
   "execution_count": 5,
   "metadata": {},
   "outputs": [
    {
     "data": {
      "text/plain": [
       "(15915, 23)"
      ]
     },
     "execution_count": 5,
     "metadata": {},
     "output_type": "execute_result"
    }
   ],
   "source": [
    "df.shape"
   ]
  },
  {
   "cell_type": "code",
   "execution_count": 6,
   "metadata": {},
   "outputs": [
    {
     "data": {
      "text/plain": [
       "False"
      ]
     },
     "execution_count": 6,
     "metadata": {},
     "output_type": "execute_result"
    }
   ],
   "source": [
    "df.isnull().sum().any()"
   ]
  },
  {
   "cell_type": "code",
   "execution_count": 7,
   "metadata": {},
   "outputs": [
    {
     "data": {
      "text/plain": [
       "Index(['make_model', 'body_type', 'price', 'vat', 'km', 'Type', 'Fuel',\n",
       "       'Gears', 'Comfort_Convenience', 'Entertainment_Media', 'Extras',\n",
       "       'Safety_Security', 'age', 'Previous_Owners', 'hp_kW', 'Inspection_new',\n",
       "       'Paint_Type', 'Upholstery_type', 'Gearing_Type', 'Displacement_cc',\n",
       "       'Weight_kg', 'Drive_chain', 'cons_comb'],\n",
       "      dtype='object')"
      ]
     },
     "execution_count": 7,
     "metadata": {},
     "output_type": "execute_result"
    }
   ],
   "source": [
    "df.columns"
   ]
  },
  {
   "cell_type": "code",
   "execution_count": 8,
   "metadata": {},
   "outputs": [
    {
     "name": "stdout",
     "output_type": "stream",
     "text": [
      "Numerical Columns:  Index(['price', 'km', 'Gears', 'age', 'Previous_Owners', 'hp_kW',\n",
      "       'Inspection_new', 'Displacement_cc', 'Weight_kg', 'cons_comb'],\n",
      "      dtype='object')\n",
      "\n",
      "\n",
      "Categorical Columns: Index(['make_model', 'body_type', 'vat', 'Type', 'Fuel', 'Comfort_Convenience',\n",
      "       'Entertainment_Media', 'Extras', 'Safety_Security', 'Paint_Type',\n",
      "       'Upholstery_type', 'Gearing_Type', 'Drive_chain'],\n",
      "      dtype='object')\n"
     ]
    }
   ],
   "source": [
    "numerical= df.select_dtypes('number').columns\n",
    "categorical = df.select_dtypes('object').columns\n",
    "\n",
    "print(f'Numerical Columns:  {df[numerical].columns}')\n",
    "print('\\n')\n",
    "print(f'Categorical Columns: {df[categorical].columns}')"
   ]
  },
  {
   "cell_type": "code",
   "execution_count": 9,
   "metadata": {},
   "outputs": [
    {
     "name": "stdout",
     "output_type": "stream",
     "text": [
      "<class 'pandas.core.frame.DataFrame'>\n",
      "RangeIndex: 15915 entries, 0 to 15914\n",
      "Data columns (total 23 columns):\n",
      " #   Column               Non-Null Count  Dtype  \n",
      "---  ------               --------------  -----  \n",
      " 0   make_model           15915 non-null  object \n",
      " 1   body_type            15915 non-null  object \n",
      " 2   price                15915 non-null  int64  \n",
      " 3   vat                  15915 non-null  object \n",
      " 4   km                   15915 non-null  float64\n",
      " 5   Type                 15915 non-null  object \n",
      " 6   Fuel                 15915 non-null  object \n",
      " 7   Gears                15915 non-null  float64\n",
      " 8   Comfort_Convenience  15915 non-null  object \n",
      " 9   Entertainment_Media  15915 non-null  object \n",
      " 10  Extras               15915 non-null  object \n",
      " 11  Safety_Security      15915 non-null  object \n",
      " 12  age                  15915 non-null  float64\n",
      " 13  Previous_Owners      15915 non-null  float64\n",
      " 14  hp_kW                15915 non-null  float64\n",
      " 15  Inspection_new       15915 non-null  int64  \n",
      " 16  Paint_Type           15915 non-null  object \n",
      " 17  Upholstery_type      15915 non-null  object \n",
      " 18  Gearing_Type         15915 non-null  object \n",
      " 19  Displacement_cc      15915 non-null  float64\n",
      " 20  Weight_kg            15915 non-null  float64\n",
      " 21  Drive_chain          15915 non-null  object \n",
      " 22  cons_comb            15915 non-null  float64\n",
      "dtypes: float64(8), int64(2), object(13)\n",
      "memory usage: 2.8+ MB\n"
     ]
    }
   ],
   "source": [
    "df.info()"
   ]
  },
  {
   "cell_type": "code",
   "execution_count": 10,
   "metadata": {},
   "outputs": [
    {
     "data": {
      "text/html": [
       "<div>\n",
       "<style scoped>\n",
       "    .dataframe tbody tr th:only-of-type {\n",
       "        vertical-align: middle;\n",
       "    }\n",
       "\n",
       "    .dataframe tbody tr th {\n",
       "        vertical-align: top;\n",
       "    }\n",
       "\n",
       "    .dataframe thead th {\n",
       "        text-align: right;\n",
       "    }\n",
       "</style>\n",
       "<table border=\"1\" class=\"dataframe\">\n",
       "  <thead>\n",
       "    <tr style=\"text-align: right;\">\n",
       "      <th></th>\n",
       "      <th>price</th>\n",
       "      <th>km</th>\n",
       "      <th>Gears</th>\n",
       "      <th>age</th>\n",
       "      <th>Previous_Owners</th>\n",
       "      <th>hp_kW</th>\n",
       "      <th>Inspection_new</th>\n",
       "      <th>Displacement_cc</th>\n",
       "      <th>Weight_kg</th>\n",
       "      <th>cons_comb</th>\n",
       "    </tr>\n",
       "  </thead>\n",
       "  <tbody>\n",
       "    <tr>\n",
       "      <th>count</th>\n",
       "      <td>15,915.0</td>\n",
       "      <td>15,915.0</td>\n",
       "      <td>15,915.0</td>\n",
       "      <td>15,915.0</td>\n",
       "      <td>15,915.0</td>\n",
       "      <td>15,915.0</td>\n",
       "      <td>15,915.0</td>\n",
       "      <td>15,915.0</td>\n",
       "      <td>15,915.0</td>\n",
       "      <td>15,915.0</td>\n",
       "    </tr>\n",
       "    <tr>\n",
       "      <th>mean</th>\n",
       "      <td>18,024.4</td>\n",
       "      <td>32,090.0</td>\n",
       "      <td>5.9</td>\n",
       "      <td>1.4</td>\n",
       "      <td>1.0</td>\n",
       "      <td>88.5</td>\n",
       "      <td>0.2</td>\n",
       "      <td>1,428.7</td>\n",
       "      <td>1,337.7</td>\n",
       "      <td>4.8</td>\n",
       "    </tr>\n",
       "    <tr>\n",
       "      <th>std</th>\n",
       "      <td>7,381.7</td>\n",
       "      <td>36,977.2</td>\n",
       "      <td>0.7</td>\n",
       "      <td>1.1</td>\n",
       "      <td>0.3</td>\n",
       "      <td>26.7</td>\n",
       "      <td>0.4</td>\n",
       "      <td>275.8</td>\n",
       "      <td>199.7</td>\n",
       "      <td>0.9</td>\n",
       "    </tr>\n",
       "    <tr>\n",
       "      <th>min</th>\n",
       "      <td>4,950.0</td>\n",
       "      <td>0.0</td>\n",
       "      <td>5.0</td>\n",
       "      <td>0.0</td>\n",
       "      <td>0.0</td>\n",
       "      <td>40.0</td>\n",
       "      <td>0.0</td>\n",
       "      <td>890.0</td>\n",
       "      <td>840.0</td>\n",
       "      <td>3.0</td>\n",
       "    </tr>\n",
       "    <tr>\n",
       "      <th>25%</th>\n",
       "      <td>12,850.0</td>\n",
       "      <td>1,920.5</td>\n",
       "      <td>5.0</td>\n",
       "      <td>0.0</td>\n",
       "      <td>1.0</td>\n",
       "      <td>66.0</td>\n",
       "      <td>0.0</td>\n",
       "      <td>1,229.0</td>\n",
       "      <td>1,165.0</td>\n",
       "      <td>4.1</td>\n",
       "    </tr>\n",
       "    <tr>\n",
       "      <th>50%</th>\n",
       "      <td>16,900.0</td>\n",
       "      <td>20,413.0</td>\n",
       "      <td>6.0</td>\n",
       "      <td>1.0</td>\n",
       "      <td>1.0</td>\n",
       "      <td>85.0</td>\n",
       "      <td>0.0</td>\n",
       "      <td>1,461.0</td>\n",
       "      <td>1,295.0</td>\n",
       "      <td>4.8</td>\n",
       "    </tr>\n",
       "    <tr>\n",
       "      <th>75%</th>\n",
       "      <td>21,900.0</td>\n",
       "      <td>46,900.0</td>\n",
       "      <td>6.0</td>\n",
       "      <td>2.0</td>\n",
       "      <td>1.0</td>\n",
       "      <td>103.0</td>\n",
       "      <td>0.0</td>\n",
       "      <td>1,598.0</td>\n",
       "      <td>1,472.0</td>\n",
       "      <td>5.4</td>\n",
       "    </tr>\n",
       "    <tr>\n",
       "      <th>max</th>\n",
       "      <td>74,600.0</td>\n",
       "      <td>317,000.0</td>\n",
       "      <td>8.0</td>\n",
       "      <td>3.0</td>\n",
       "      <td>4.0</td>\n",
       "      <td>294.0</td>\n",
       "      <td>1.0</td>\n",
       "      <td>2,967.0</td>\n",
       "      <td>2,471.0</td>\n",
       "      <td>9.1</td>\n",
       "    </tr>\n",
       "  </tbody>\n",
       "</table>\n",
       "</div>"
      ],
      "text/plain": [
       "         price        km    Gears      age  Previous_Owners    hp_kW  \\\n",
       "count 15,915.0  15,915.0 15,915.0 15,915.0         15,915.0 15,915.0   \n",
       "mean  18,024.4  32,090.0      5.9      1.4              1.0     88.5   \n",
       "std    7,381.7  36,977.2      0.7      1.1              0.3     26.7   \n",
       "min    4,950.0       0.0      5.0      0.0              0.0     40.0   \n",
       "25%   12,850.0   1,920.5      5.0      0.0              1.0     66.0   \n",
       "50%   16,900.0  20,413.0      6.0      1.0              1.0     85.0   \n",
       "75%   21,900.0  46,900.0      6.0      2.0              1.0    103.0   \n",
       "max   74,600.0 317,000.0      8.0      3.0              4.0    294.0   \n",
       "\n",
       "       Inspection_new  Displacement_cc  Weight_kg  cons_comb  \n",
       "count        15,915.0         15,915.0   15,915.0   15,915.0  \n",
       "mean              0.2          1,428.7    1,337.7        4.8  \n",
       "std               0.4            275.8      199.7        0.9  \n",
       "min               0.0            890.0      840.0        3.0  \n",
       "25%               0.0          1,229.0    1,165.0        4.1  \n",
       "50%               0.0          1,461.0    1,295.0        4.8  \n",
       "75%               0.0          1,598.0    1,472.0        5.4  \n",
       "max               1.0          2,967.0    2,471.0        9.1  "
      ]
     },
     "execution_count": 10,
     "metadata": {},
     "output_type": "execute_result"
    }
   ],
   "source": [
    "df.describe()"
   ]
  },
  {
   "cell_type": "code",
   "execution_count": 11,
   "metadata": {},
   "outputs": [
    {
     "data": {
      "text/html": [
       "<div>\n",
       "<style scoped>\n",
       "    .dataframe tbody tr th:only-of-type {\n",
       "        vertical-align: middle;\n",
       "    }\n",
       "\n",
       "    .dataframe tbody tr th {\n",
       "        vertical-align: top;\n",
       "    }\n",
       "\n",
       "    .dataframe thead th {\n",
       "        text-align: right;\n",
       "    }\n",
       "</style>\n",
       "<table border=\"1\" class=\"dataframe\">\n",
       "  <thead>\n",
       "    <tr style=\"text-align: right;\">\n",
       "      <th></th>\n",
       "      <th>count</th>\n",
       "      <th>unique</th>\n",
       "      <th>top</th>\n",
       "      <th>freq</th>\n",
       "    </tr>\n",
       "  </thead>\n",
       "  <tbody>\n",
       "    <tr>\n",
       "      <th>make_model</th>\n",
       "      <td>15915</td>\n",
       "      <td>9</td>\n",
       "      <td>Audi A3</td>\n",
       "      <td>3097</td>\n",
       "    </tr>\n",
       "    <tr>\n",
       "      <th>body_type</th>\n",
       "      <td>15915</td>\n",
       "      <td>8</td>\n",
       "      <td>Sedans</td>\n",
       "      <td>8004</td>\n",
       "    </tr>\n",
       "    <tr>\n",
       "      <th>vat</th>\n",
       "      <td>15915</td>\n",
       "      <td>2</td>\n",
       "      <td>VAT deductible</td>\n",
       "      <td>15044</td>\n",
       "    </tr>\n",
       "    <tr>\n",
       "      <th>Type</th>\n",
       "      <td>15915</td>\n",
       "      <td>5</td>\n",
       "      <td>Used</td>\n",
       "      <td>11095</td>\n",
       "    </tr>\n",
       "    <tr>\n",
       "      <th>Fuel</th>\n",
       "      <td>15915</td>\n",
       "      <td>4</td>\n",
       "      <td>Benzine</td>\n",
       "      <td>8548</td>\n",
       "    </tr>\n",
       "    <tr>\n",
       "      <th>Comfort_Convenience</th>\n",
       "      <td>15915</td>\n",
       "      <td>6196</td>\n",
       "      <td>Air conditioning,Electrical side mirrors,Hill ...</td>\n",
       "      <td>388</td>\n",
       "    </tr>\n",
       "    <tr>\n",
       "      <th>Entertainment_Media</th>\n",
       "      <td>15915</td>\n",
       "      <td>346</td>\n",
       "      <td>Bluetooth,Hands-free equipment,On-board comput...</td>\n",
       "      <td>1737</td>\n",
       "    </tr>\n",
       "    <tr>\n",
       "      <th>Extras</th>\n",
       "      <td>15915</td>\n",
       "      <td>659</td>\n",
       "      <td>Alloy wheels</td>\n",
       "      <td>5785</td>\n",
       "    </tr>\n",
       "    <tr>\n",
       "      <th>Safety_Security</th>\n",
       "      <td>15915</td>\n",
       "      <td>4442</td>\n",
       "      <td>ABS,Central door lock,Daytime running lights,D...</td>\n",
       "      <td>729</td>\n",
       "    </tr>\n",
       "    <tr>\n",
       "      <th>Paint_Type</th>\n",
       "      <td>15915</td>\n",
       "      <td>3</td>\n",
       "      <td>Metallic</td>\n",
       "      <td>15246</td>\n",
       "    </tr>\n",
       "    <tr>\n",
       "      <th>Upholstery_type</th>\n",
       "      <td>15915</td>\n",
       "      <td>2</td>\n",
       "      <td>Cloth</td>\n",
       "      <td>12234</td>\n",
       "    </tr>\n",
       "    <tr>\n",
       "      <th>Gearing_Type</th>\n",
       "      <td>15915</td>\n",
       "      <td>3</td>\n",
       "      <td>Manual</td>\n",
       "      <td>8149</td>\n",
       "    </tr>\n",
       "    <tr>\n",
       "      <th>Drive_chain</th>\n",
       "      <td>15915</td>\n",
       "      <td>3</td>\n",
       "      <td>front</td>\n",
       "      <td>15707</td>\n",
       "    </tr>\n",
       "  </tbody>\n",
       "</table>\n",
       "</div>"
      ],
      "text/plain": [
       "                     count unique  \\\n",
       "make_model           15915      9   \n",
       "body_type            15915      8   \n",
       "vat                  15915      2   \n",
       "Type                 15915      5   \n",
       "Fuel                 15915      4   \n",
       "Comfort_Convenience  15915   6196   \n",
       "Entertainment_Media  15915    346   \n",
       "Extras               15915    659   \n",
       "Safety_Security      15915   4442   \n",
       "Paint_Type           15915      3   \n",
       "Upholstery_type      15915      2   \n",
       "Gearing_Type         15915      3   \n",
       "Drive_chain          15915      3   \n",
       "\n",
       "                                                                   top   freq  \n",
       "make_model                                                     Audi A3   3097  \n",
       "body_type                                                       Sedans   8004  \n",
       "vat                                                     VAT deductible  15044  \n",
       "Type                                                              Used  11095  \n",
       "Fuel                                                           Benzine   8548  \n",
       "Comfort_Convenience  Air conditioning,Electrical side mirrors,Hill ...    388  \n",
       "Entertainment_Media  Bluetooth,Hands-free equipment,On-board comput...   1737  \n",
       "Extras                                                    Alloy wheels   5785  \n",
       "Safety_Security      ABS,Central door lock,Daytime running lights,D...    729  \n",
       "Paint_Type                                                    Metallic  15246  \n",
       "Upholstery_type                                                  Cloth  12234  \n",
       "Gearing_Type                                                    Manual   8149  \n",
       "Drive_chain                                                      front  15707  "
      ]
     },
     "execution_count": 11,
     "metadata": {},
     "output_type": "execute_result"
    }
   ],
   "source": [
    "df.describe(include=\"object\").T"
   ]
  },
  {
   "cell_type": "code",
   "execution_count": 12,
   "metadata": {},
   "outputs": [
    {
     "name": "stdout",
     "output_type": "stream",
     "text": [
      "Number of Uniques:\n",
      "make_model                9\n",
      "body_type                 8\n",
      "vat                       2\n",
      "Type                      5\n",
      "Fuel                      4\n",
      "Comfort_Convenience    6196\n",
      "Entertainment_Media     346\n",
      "Extras                  659\n",
      "Safety_Security        4442\n",
      "Paint_Type                3\n",
      "Upholstery_type           2\n",
      "Gearing_Type              3\n",
      "Drive_chain               3\n",
      "dtype: int64\n",
      "\n"
     ]
    }
   ],
   "source": [
    "print(\"Number of Uniques:\\n\", df.select_dtypes('object').nunique(),'\\n', sep='')"
   ]
  },
  {
   "cell_type": "code",
   "execution_count": 13,
   "metadata": {},
   "outputs": [
    {
     "name": "stdout",
     "output_type": "stream",
     "text": [
      "Number of Uniques:\n",
      "price              2952\n",
      "km                 6691\n",
      "Gears                 4\n",
      "age                   4\n",
      "Previous_Owners       5\n",
      "hp_kW                77\n",
      "Inspection_new        2\n",
      "Displacement_cc      68\n",
      "Weight_kg           432\n",
      "cons_comb            62\n",
      "dtype: int64\n",
      "\n"
     ]
    }
   ],
   "source": [
    "print(\"Number of Uniques:\\n\", df.select_dtypes('number').nunique(), '\\n', sep='')"
   ]
  },
  {
   "cell_type": "code",
   "execution_count": 16,
   "metadata": {},
   "outputs": [
    {
     "data": {
      "image/png": "[encoded data removed]",
      "text/plain": [
       "<Figure size 640x480 with 2 Axes>"
      ]
     },
     "metadata": {},
     "output_type": "display_data"
    }
   ],
   "source": [
    "import seaborn as sns\n",
    "sns.heatmap(df.corr(numeric_only=True), annot=True);"
   ]
  },
  {
   "cell_type": "code",
   "execution_count": 17,
   "metadata": {},
   "outputs": [
    {
     "data": {
      "text/html": [
       "<div>\n",
       "<style scoped>\n",
       "    .dataframe tbody tr th:only-of-type {\n",
       "        vertical-align: middle;\n",
       "    }\n",
       "\n",
       "    .dataframe tbody tr th {\n",
       "        vertical-align: top;\n",
       "    }\n",
       "\n",
       "    .dataframe thead th {\n",
       "        text-align: right;\n",
       "    }\n",
       "</style>\n",
       "<table border=\"1\" class=\"dataframe\">\n",
       "  <thead>\n",
       "    <tr style=\"text-align: right;\">\n",
       "      <th></th>\n",
       "      <th>price</th>\n",
       "      <th>km</th>\n",
       "      <th>Gears</th>\n",
       "      <th>age</th>\n",
       "      <th>Previous_Owners</th>\n",
       "      <th>hp_kW</th>\n",
       "      <th>Inspection_new</th>\n",
       "      <th>Displacement_cc</th>\n",
       "      <th>Weight_kg</th>\n",
       "      <th>cons_comb</th>\n",
       "    </tr>\n",
       "  </thead>\n",
       "  <tbody>\n",
       "    <tr>\n",
       "      <th>min</th>\n",
       "      <td>4950</td>\n",
       "      <td>0.0</td>\n",
       "      <td>5.0</td>\n",
       "      <td>0.0</td>\n",
       "      <td>0.0</td>\n",
       "      <td>40.0</td>\n",
       "      <td>0</td>\n",
       "      <td>890.0</td>\n",
       "      <td>840.0</td>\n",
       "      <td>3.0</td>\n",
       "    </tr>\n",
       "    <tr>\n",
       "      <th>max</th>\n",
       "      <td>74600</td>\n",
       "      <td>317,000.0</td>\n",
       "      <td>8.0</td>\n",
       "      <td>3.0</td>\n",
       "      <td>4.0</td>\n",
       "      <td>294.0</td>\n",
       "      <td>1</td>\n",
       "      <td>2,967.0</td>\n",
       "      <td>2,471.0</td>\n",
       "      <td>9.1</td>\n",
       "    </tr>\n",
       "  </tbody>\n",
       "</table>\n",
       "</div>"
      ],
      "text/plain": [
       "     price        km  Gears  age  Previous_Owners  hp_kW  Inspection_new  \\\n",
       "min   4950       0.0    5.0  0.0              0.0   40.0               0   \n",
       "max  74600 317,000.0    8.0  3.0              4.0  294.0               1   \n",
       "\n",
       "     Displacement_cc  Weight_kg  cons_comb  \n",
       "min            890.0      840.0        3.0  \n",
       "max          2,967.0    2,471.0        9.1  "
      ]
     },
     "execution_count": 17,
     "metadata": {},
     "output_type": "execute_result"
    }
   ],
   "source": [
    "pd.DataFrame(df.select_dtypes('number').agg(['min', 'max']))"
   ]
  },
  {
   "cell_type": "code",
   "execution_count": 18,
   "metadata": {},
   "outputs": [
    {
     "data": {
      "text/plain": [
       "array([3., 2., 1., 0.])"
      ]
     },
     "execution_count": 18,
     "metadata": {},
     "output_type": "execute_result"
    }
   ],
   "source": [
    "df.age.unique()"
   ]
  },
  {
   "cell_type": "code",
   "execution_count": 19,
   "metadata": {},
   "outputs": [
    {
     "data": {
      "text/plain": [
       "40.0"
      ]
     },
     "execution_count": 19,
     "metadata": {},
     "output_type": "execute_result"
    }
   ],
   "source": [
    "df.hp_kW.min()"
   ]
  },
  {
   "cell_type": "code",
   "execution_count": 20,
   "metadata": {},
   "outputs": [
    {
     "data": {
      "text/plain": [
       "294.0"
      ]
     },
     "execution_count": 20,
     "metadata": {},
     "output_type": "execute_result"
    }
   ],
   "source": [
    "df.hp_kW.max()"
   ]
  },
  {
   "cell_type": "code",
   "execution_count": 21,
   "metadata": {},
   "outputs": [
    {
     "data": {
      "text/plain": [
       "6691"
      ]
     },
     "execution_count": 21,
     "metadata": {},
     "output_type": "execute_result"
    }
   ],
   "source": [
    "df.km.nunique()"
   ]
  },
  {
   "cell_type": "code",
   "execution_count": 22,
   "metadata": {},
   "outputs": [
    {
     "data": {
      "text/plain": [
       "317000.0"
      ]
     },
     "execution_count": 22,
     "metadata": {},
     "output_type": "execute_result"
    }
   ],
   "source": [
    "df.km.max()"
   ]
  },
  {
   "cell_type": "code",
   "execution_count": 23,
   "metadata": {},
   "outputs": [
    {
     "data": {
      "text/plain": [
       "0.0"
      ]
     },
     "execution_count": 23,
     "metadata": {},
     "output_type": "execute_result"
    }
   ],
   "source": [
    "df.km.min()"
   ]
  },
  {
   "cell_type": "code",
   "execution_count": 24,
   "metadata": {},
   "outputs": [
    {
     "data": {
      "text/plain": [
       "array(['Automatic', 'Manual', 'Semi-automatic'], dtype=object)"
      ]
     },
     "execution_count": 24,
     "metadata": {},
     "output_type": "execute_result"
    }
   ],
   "source": [
    "df.Gearing_Type.unique()"
   ]
  },
  {
   "cell_type": "code",
   "execution_count": 25,
   "metadata": {},
   "outputs": [
    {
     "data": {
      "text/plain": [
       "array(['Audi A1', 'Audi A2', 'Audi A3', 'Opel Astra', 'Opel Corsa',\n",
       "       'Opel Insignia', 'Renault Clio', 'Renault Duster',\n",
       "       'Renault Espace'], dtype=object)"
      ]
     },
     "execution_count": 25,
     "metadata": {},
     "output_type": "execute_result"
    }
   ],
   "source": [
    "df.make_model.unique()"
   ]
  },
  {
   "cell_type": "code",
   "execution_count": 26,
   "metadata": {},
   "outputs": [
    {
     "data": {
      "text/plain": [
       "make_model\n",
       "Audi A3           3097\n",
       "Audi A1           2614\n",
       "Opel Insignia     2598\n",
       "Opel Astra        2525\n",
       "Opel Corsa        2216\n",
       "Renault Clio      1839\n",
       "Renault Espace     991\n",
       "Renault Duster      34\n",
       "Audi A2              1\n",
       "Name: count, dtype: int64"
      ]
     },
     "execution_count": 26,
     "metadata": {},
     "output_type": "execute_result"
    }
   ],
   "source": [
    "df.make_model.value_counts()"
   ]
  },
  {
   "cell_type": "code",
   "execution_count": 27,
   "metadata": {},
   "outputs": [
    {
     "data": {
      "text/html": [
       "<div>\n",
       "<style scoped>\n",
       "    .dataframe tbody tr th:only-of-type {\n",
       "        vertical-align: middle;\n",
       "    }\n",
       "\n",
       "    .dataframe tbody tr th {\n",
       "        vertical-align: top;\n",
       "    }\n",
       "\n",
       "    .dataframe thead th {\n",
       "        text-align: right;\n",
       "    }\n",
       "</style>\n",
       "<table border=\"1\" class=\"dataframe\">\n",
       "  <thead>\n",
       "    <tr style=\"text-align: right;\">\n",
       "      <th></th>\n",
       "      <th>make_model</th>\n",
       "      <th>body_type</th>\n",
       "      <th>price</th>\n",
       "      <th>vat</th>\n",
       "      <th>km</th>\n",
       "      <th>Type</th>\n",
       "      <th>Fuel</th>\n",
       "      <th>Gears</th>\n",
       "      <th>Comfort_Convenience</th>\n",
       "      <th>Entertainment_Media</th>\n",
       "      <th>Extras</th>\n",
       "      <th>Safety_Security</th>\n",
       "      <th>age</th>\n",
       "      <th>Previous_Owners</th>\n",
       "      <th>hp_kW</th>\n",
       "      <th>Inspection_new</th>\n",
       "      <th>Paint_Type</th>\n",
       "      <th>Upholstery_type</th>\n",
       "      <th>Gearing_Type</th>\n",
       "      <th>Displacement_cc</th>\n",
       "      <th>Weight_kg</th>\n",
       "      <th>Drive_chain</th>\n",
       "      <th>cons_comb</th>\n",
       "    </tr>\n",
       "  </thead>\n",
       "  <tbody>\n",
       "    <tr>\n",
       "      <th>2614</th>\n",
       "      <td>Audi A2</td>\n",
       "      <td>Off-Road</td>\n",
       "      <td>28200</td>\n",
       "      <td>VAT deductible</td>\n",
       "      <td>26,166.0</td>\n",
       "      <td>Employee's car</td>\n",
       "      <td>Diesel</td>\n",
       "      <td>6.0</td>\n",
       "      <td>Air conditioning,Armrest,Automatic climate con...</td>\n",
       "      <td>Bluetooth,CD player,Hands-free equipment,MP3,O...</td>\n",
       "      <td>Alloy wheels</td>\n",
       "      <td>ABS,Adaptive Cruise Control,Central door lock,...</td>\n",
       "      <td>1.0</td>\n",
       "      <td>1.0</td>\n",
       "      <td>85.0</td>\n",
       "      <td>0</td>\n",
       "      <td>Metallic</td>\n",
       "      <td>Cloth</td>\n",
       "      <td>Manual</td>\n",
       "      <td>1,598.0</td>\n",
       "      <td>1,135.0</td>\n",
       "      <td>front</td>\n",
       "      <td>4.9</td>\n",
       "    </tr>\n",
       "  </tbody>\n",
       "</table>\n",
       "</div>"
      ],
      "text/plain": [
       "     make_model body_type  price             vat       km            Type  \\\n",
       "2614    Audi A2  Off-Road  28200  VAT deductible 26,166.0  Employee's car   \n",
       "\n",
       "        Fuel  Gears                                Comfort_Convenience  \\\n",
       "2614  Diesel    6.0  Air conditioning,Armrest,Automatic climate con...   \n",
       "\n",
       "                                    Entertainment_Media        Extras  \\\n",
       "2614  Bluetooth,CD player,Hands-free equipment,MP3,O...  Alloy wheels   \n",
       "\n",
       "                                        Safety_Security  age  Previous_Owners  \\\n",
       "2614  ABS,Adaptive Cruise Control,Central door lock,...  1.0              1.0   \n",
       "\n",
       "      hp_kW  Inspection_new Paint_Type Upholstery_type Gearing_Type  \\\n",
       "2614   85.0               0   Metallic           Cloth       Manual   \n",
       "\n",
       "      Displacement_cc  Weight_kg Drive_chain  cons_comb  \n",
       "2614          1,598.0    1,135.0       front        4.9  "
      ]
     },
     "execution_count": 27,
     "metadata": {},
     "output_type": "execute_result"
    }
   ],
   "source": [
    "df[df.make_model==\"Audi A2\"]"
   ]
  },
  {
   "cell_type": "code",
   "execution_count": 28,
   "metadata": {},
   "outputs": [],
   "source": [
    "df.drop(index=[2614], inplace =True)"
   ]
  },
  {
   "cell_type": "code",
   "execution_count": 29,
   "metadata": {},
   "outputs": [
    {
     "data": {
      "text/plain": [
       "array(['Audi A1', 'Audi A3', 'Opel Astra', 'Opel Corsa', 'Opel Insignia',\n",
       "       'Renault Clio', 'Renault Duster', 'Renault Espace'], dtype=object)"
      ]
     },
     "execution_count": 29,
     "metadata": {},
     "output_type": "execute_result"
    }
   ],
   "source": [
    "df.make_model.unique()"
   ]
  },
  {
   "cell_type": "code",
   "execution_count": 30,
   "metadata": {
    "id": "Wq-nx6U9lzzD"
   },
   "outputs": [],
   "source": [
    "new_list=[\"age\", \"hp_kW\", \"km\", \"Gearing_Type\", 'make_model']"
   ]
  },
  {
   "cell_type": "code",
   "execution_count": 31,
   "metadata": {
    "id": "ojUll31ZlzzD"
   },
   "outputs": [],
   "source": [
    "X=df[new_list]\n",
    "y=df['price']"
   ]
  },
  {
   "cell_type": "code",
   "execution_count": 32,
   "metadata": {
    "id": "V7murgcWlzzD",
    "outputId": "60072f4e-26d3-4284-da4b-86f1bbf9185f"
   },
   "outputs": [
    {
     "data": {
      "text/html": [
       "<div>\n",
       "<style scoped>\n",
       "    .dataframe tbody tr th:only-of-type {\n",
       "        vertical-align: middle;\n",
       "    }\n",
       "\n",
       "    .dataframe tbody tr th {\n",
       "        vertical-align: top;\n",
       "    }\n",
       "\n",
       "    .dataframe thead th {\n",
       "        text-align: right;\n",
       "    }\n",
       "</style>\n",
       "<table border=\"1\" class=\"dataframe\">\n",
       "  <thead>\n",
       "    <tr style=\"text-align: right;\">\n",
       "      <th></th>\n",
       "      <th>age</th>\n",
       "      <th>hp_kW</th>\n",
       "      <th>km</th>\n",
       "      <th>Gearing_Type</th>\n",
       "      <th>make_model</th>\n",
       "    </tr>\n",
       "  </thead>\n",
       "  <tbody>\n",
       "    <tr>\n",
       "      <th>6336</th>\n",
       "      <td>2.0</td>\n",
       "      <td>110.0</td>\n",
       "      <td>21,379.0</td>\n",
       "      <td>Automatic</td>\n",
       "      <td>Opel Astra</td>\n",
       "    </tr>\n",
       "    <tr>\n",
       "      <th>1188</th>\n",
       "      <td>0.0</td>\n",
       "      <td>70.0</td>\n",
       "      <td>3,000.0</td>\n",
       "      <td>Manual</td>\n",
       "      <td>Audi A1</td>\n",
       "    </tr>\n",
       "    <tr>\n",
       "      <th>7801</th>\n",
       "      <td>0.0</td>\n",
       "      <td>100.0</td>\n",
       "      <td>1,647.4</td>\n",
       "      <td>Automatic</td>\n",
       "      <td>Opel Astra</td>\n",
       "    </tr>\n",
       "    <tr>\n",
       "      <th>1803</th>\n",
       "      <td>1.0</td>\n",
       "      <td>85.0</td>\n",
       "      <td>19,000.0</td>\n",
       "      <td>Manual</td>\n",
       "      <td>Audi A1</td>\n",
       "    </tr>\n",
       "    <tr>\n",
       "      <th>15297</th>\n",
       "      <td>0.0</td>\n",
       "      <td>146.0</td>\n",
       "      <td>1,647.4</td>\n",
       "      <td>Manual</td>\n",
       "      <td>Renault Espace</td>\n",
       "    </tr>\n",
       "  </tbody>\n",
       "</table>\n",
       "</div>"
      ],
      "text/plain": [
       "       age  hp_kW       km Gearing_Type      make_model\n",
       "6336   2.0  110.0 21,379.0    Automatic      Opel Astra\n",
       "1188   0.0   70.0  3,000.0       Manual         Audi A1\n",
       "7801   0.0  100.0  1,647.4    Automatic      Opel Astra\n",
       "1803   1.0   85.0 19,000.0       Manual         Audi A1\n",
       "15297  0.0  146.0  1,647.4       Manual  Renault Espace"
      ]
     },
     "execution_count": 32,
     "metadata": {},
     "output_type": "execute_result"
    }
   ],
   "source": [
    "X.sample(5)"
   ]
  },
  {
   "cell_type": "code",
   "execution_count": 33,
   "metadata": {
    "id": "BSJL2gsXlzzE"
   },
   "outputs": [],
   "source": [
    "X_train, X_test, y_train, y_test = train_test_split(X, y, test_size = 0.2, random_state = 0)"
   ]
  },
  {
   "cell_type": "code",
   "execution_count": 34,
   "metadata": {},
   "outputs": [],
   "source": [
    "from sklearn.compose import make_column_transformer"
   ]
  },
  {
   "cell_type": "code",
   "execution_count": 35,
   "metadata": {},
   "outputs": [],
   "source": [
    "from sklearn.preprocessing import OrdinalEncoder"
   ]
  },
  {
   "cell_type": "code",
   "execution_count": 36,
   "metadata": {},
   "outputs": [
    {
     "data": {
      "text/plain": [
       "Index(['Gearing_Type', 'make_model'], dtype='object')"
      ]
     },
     "execution_count": 36,
     "metadata": {},
     "output_type": "execute_result"
    }
   ],
   "source": [
    "cat = X_train.select_dtypes(\"object\").columns\n",
    "cat"
   ]
  },
  {
   "cell_type": "code",
   "execution_count": 37,
   "metadata": {},
   "outputs": [],
   "source": [
    "ord_enc = OrdinalEncoder()\n",
    "column_trans = make_column_transformer((ord_enc, cat), remainder='passthrough') # remainder: # Keep other columns rather than cat in original form.\n",
    "                                                                                # remainder: # if you want to scale rest of cat columns use \"minmax\" istead passthroug\n",
    "    \n",
    "    # Apply ord_enc to categoric variables and remain in original form rest of them.\n",
    "    # ord_enc for DT based algorithms\n",
    "    # For Linear reg, log reg vs. use one hot encoder "
   ]
  },
  {
   "cell_type": "code",
   "execution_count": 38,
   "metadata": {},
   "outputs": [
    {
     "data": {
      "text/plain": [
       "age                    3.0\n",
       "hp_kW                 81.0\n",
       "km               139,000.0\n",
       "Gearing_Type        Manual\n",
       "make_model      Opel Astra\n",
       "Name: 6376, dtype: object"
      ]
     },
     "execution_count": 38,
     "metadata": {},
     "output_type": "execute_result"
    }
   ],
   "source": [
    "X_train.iloc[1]"
   ]
  },
  {
   "cell_type": "code",
   "execution_count": 39,
   "metadata": {},
   "outputs": [],
   "source": [
    "X_train=column_trans.fit_transform(X_train)"
   ]
  },
  {
   "cell_type": "code",
   "execution_count": 40,
   "metadata": {},
   "outputs": [],
   "source": [
    "X_test=column_trans.transform(X_test)"
   ]
  },
  {
   "cell_type": "code",
   "execution_count": 41,
   "metadata": {},
   "outputs": [
    {
     "data": {
      "text/plain": [
       "array([[1.00e+00, 5.00e+00, 0.00e+00, 5.60e+01, 1.00e+01],\n",
       "       [1.00e+00, 2.00e+00, 3.00e+00, 8.10e+01, 1.39e+05],\n",
       "       [0.00e+00, 1.00e+00, 0.00e+00, 8.50e+01, 1.80e+04],\n",
       "       ...,\n",
       "       [0.00e+00, 3.00e+00, 0.00e+00, 6.60e+01, 3.55e+02],\n",
       "       [0.00e+00, 4.00e+00, 3.00e+00, 1.25e+02, 2.32e+05],\n",
       "       [0.00e+00, 1.00e+00, 3.00e+00, 8.10e+01, 9.70e+04]])"
      ]
     },
     "execution_count": 41,
     "metadata": {},
     "output_type": "execute_result"
    }
   ],
   "source": [
    "X_train"
   ]
  },
  {
   "cell_type": "code",
   "execution_count": 42,
   "metadata": {},
   "outputs": [
    {
     "data": {
      "text/plain": [
       "0         1.0\n",
       "1         2.0\n",
       "2         3.0\n",
       "3        81.0\n",
       "4   139,000.0\n",
       "dtype: float64"
      ]
     },
     "execution_count": 42,
     "metadata": {},
     "output_type": "execute_result"
    }
   ],
   "source": [
    "pd.Series(X_train[1])"
   ]
  },
  {
   "cell_type": "code",
   "execution_count": 43,
   "metadata": {},
   "outputs": [
    {
     "data": {
      "text/html": [
       "<style>#sk-container-id-1 {color: black;background-color: white;}#sk-container-id-1 pre{padding: 0;}#sk-container-id-1 div.sk-toggleable {background-color: white;}#sk-container-id-1 label.sk-toggleable__label {cursor: pointer;display: block;width: 100%;margin-bottom: 0;padding: 0.3em;box-sizing: border-box;text-align: center;}#sk-container-id-1 label.sk-toggleable__label-arrow:before {content: \"▸\";float: left;margin-right: 0.25em;color: #696969;}#sk-container-id-1 label.sk-toggleable__label-arrow:hover:before {color: black;}#sk-container-id-1 div.sk-estimator:hover label.sk-toggleable__label-arrow:before {color: black;}#sk-container-id-1 div.sk-toggleable__content {max-height: 0;max-width: 0;overflow: hidden;text-align: left;background-color: #f0f8ff;}#sk-container-id-1 div.sk-toggleable__content pre {margin: 0.2em;color: black;border-radius: 0.25em;background-color: #f0f8ff;}#sk-container-id-1 input.sk-toggleable__control:checked~div.sk-toggleable__content {max-height: 200px;max-width: 100%;overflow: auto;}#sk-container-id-1 input.sk-toggleable__control:checked~label.sk-toggleable__label-arrow:before {content: \"▾\";}#sk-container-id-1 div.sk-estimator input.sk-toggleable__control:checked~label.sk-toggleable__label {background-color: #d4ebff;}#sk-container-id-1 div.sk-label input.sk-toggleable__control:checked~label.sk-toggleable__label {background-color: #d4ebff;}#sk-container-id-1 input.sk-hidden--visually {border: 0;clip: rect(1px 1px 1px 1px);clip: rect(1px, 1px, 1px, 1px);height: 1px;margin: -1px;overflow: hidden;padding: 0;position: absolute;width: 1px;}#sk-container-id-1 div.sk-estimator {font-family: monospace;background-color: #f0f8ff;border: 1px dotted black;border-radius: 0.25em;box-sizing: border-box;margin-bottom: 0.5em;}#sk-container-id-1 div.sk-estimator:hover {background-color: #d4ebff;}#sk-container-id-1 div.sk-parallel-item::after {content: \"\";width: 100%;border-bottom: 1px solid gray;flex-grow: 1;}#sk-container-id-1 div.sk-label:hover label.sk-toggleable__label {background-color: #d4ebff;}#sk-container-id-1 div.sk-serial::before {content: \"\";position: absolute;border-left: 1px solid gray;box-sizing: border-box;top: 0;bottom: 0;left: 50%;z-index: 0;}#sk-container-id-1 div.sk-serial {display: flex;flex-direction: column;align-items: center;background-color: white;padding-right: 0.2em;padding-left: 0.2em;position: relative;}#sk-container-id-1 div.sk-item {position: relative;z-index: 1;}#sk-container-id-1 div.sk-parallel {display: flex;align-items: stretch;justify-content: center;background-color: white;position: relative;}#sk-container-id-1 div.sk-item::before, #sk-container-id-1 div.sk-parallel-item::before {content: \"\";position: absolute;border-left: 1px solid gray;box-sizing: border-box;top: 0;bottom: 0;left: 50%;z-index: -1;}#sk-container-id-1 div.sk-parallel-item {display: flex;flex-direction: column;z-index: 1;position: relative;background-color: white;}#sk-container-id-1 div.sk-parallel-item:first-child::after {align-self: flex-end;width: 50%;}#sk-container-id-1 div.sk-parallel-item:last-child::after {align-self: flex-start;width: 50%;}#sk-container-id-1 div.sk-parallel-item:only-child::after {width: 0;}#sk-container-id-1 div.sk-dashed-wrapped {border: 1px dashed gray;margin: 0 0.4em 0.5em 0.4em;box-sizing: border-box;padding-bottom: 0.4em;background-color: white;}#sk-container-id-1 div.sk-label label {font-family: monospace;font-weight: bold;display: inline-block;line-height: 1.2em;}#sk-container-id-1 div.sk-label-container {text-align: center;}#sk-container-id-1 div.sk-container {/* jupyter's `normalize.less` sets `[hidden] { display: none; }` but bootstrap.min.css set `[hidden] { display: none !important; }` so we also need the `!important` here to be able to override the default hidden behavior on the sphinx rendered scikit-learn.org. See: https://github.com/scikit-learn/scikit-learn/issues/21755 */display: inline-block !important;position: relative;}#sk-container-id-1 div.sk-text-repr-fallback {display: none;}</style><div id=\"sk-container-id-1\" class=\"sk-top-container\"><div class=\"sk-text-repr-fallback\"><pre>RandomForestRegressor()</pre><b>In a Jupyter environment, please rerun this cell to show the HTML representation or trust the notebook. <br />On GitHub, the HTML representation is unable to render, please try loading this page with nbviewer.org.</b></div><div class=\"sk-container\" hidden><div class=\"sk-item\"><div class=\"sk-estimator sk-toggleable\"><input class=\"sk-toggleable__control sk-hidden--visually\" id=\"sk-estimator-id-1\" type=\"checkbox\" checked><label for=\"sk-estimator-id-1\" class=\"sk-toggleable__label sk-toggleable__label-arrow\">RandomForestRegressor</label><div class=\"sk-toggleable__content\"><pre>RandomForestRegressor()</pre></div></div></div></div></div>"
      ],
      "text/plain": [
       "RandomForestRegressor()"
      ]
     },
     "execution_count": 43,
     "metadata": {},
     "output_type": "execute_result"
    }
   ],
   "source": [
    "from sklearn.ensemble import RandomForestRegressor\n",
    "rf_model=RandomForestRegressor()\n",
    "rf_model.fit(X_train, y_train)"
   ]
  },
  {
   "cell_type": "code",
   "execution_count": 44,
   "metadata": {},
   "outputs": [],
   "source": [
    "y_pred = rf_model.predict(X_test)"
   ]
  },
  {
   "cell_type": "code",
   "execution_count": 45,
   "metadata": {},
   "outputs": [
    {
     "name": "stdout",
     "output_type": "stream",
     "text": [
      " r2_score: 0.9286721192659937 \n",
      " mae: 1138.1157333362696 \n",
      " mse: 3571272.600435674 \n",
      " rmse: 1889.7810985496903\n"
     ]
    }
   ],
   "source": [
    "eval_metrics(y_test,y_pred)"
   ]
  },
  {
   "cell_type": "code",
   "execution_count": 46,
   "metadata": {},
   "outputs": [],
   "source": [
    "import pickle\n",
    "pickle.dump(rf_model, open('rf_model_new', 'wb'))"
   ]
  },
  {
   "cell_type": "code",
   "execution_count": 47,
   "metadata": {},
   "outputs": [],
   "source": [
    "pickle.dump(column_trans, open('transformer', 'wb'))"
   ]
  },
  {
   "attachments": {},
   "cell_type": "markdown",
   "metadata": {},
   "source": [
    "**deployment**"
   ]
  },
  {
   "cell_type": "code",
   "execution_count": 48,
   "metadata": {},
   "outputs": [],
   "source": [
    "de08_model = pickle.load(open('rf_model_new', 'rb'))"
   ]
  },
  {
   "cell_type": "code",
   "execution_count": 49,
   "metadata": {},
   "outputs": [],
   "source": [
    "de08_transformer = pickle.load(open('transformer', 'rb'))"
   ]
  },
  {
   "cell_type": "code",
   "execution_count": 50,
   "metadata": {},
   "outputs": [
    {
     "data": {
      "text/plain": [
       "['age', 'hp_kW', 'km', 'Gearing_Type', 'make_model']"
      ]
     },
     "execution_count": 50,
     "metadata": {},
     "output_type": "execute_result"
    }
   ],
   "source": [
    "columns=list(X.columns)\n",
    "columns"
   ]
  },
  {
   "cell_type": "code",
   "execution_count": 51,
   "metadata": {},
   "outputs": [],
   "source": [
    "my_dict = {\n",
    "    \"age\": 2,\n",
    "    \"hp_kW\": 105,\n",
    "    \"km\": 100000,\n",
    "    \"Gearing_Type\":\"Automatic\",\n",
    "    \"make_model\": 'Audi A3'\n",
    "}"
   ]
  },
  {
   "cell_type": "code",
   "execution_count": 53,
   "metadata": {},
   "outputs": [],
   "source": [
    "#df = pd.DataFrame([my_dict])\n",
    "#df = pd.DataFrame(my_dict, index=[\"a\"])"
   ]
  },
  {
   "cell_type": "code",
   "execution_count": 52,
   "metadata": {},
   "outputs": [],
   "source": [
    "df = pd.DataFrame.from_dict([my_dict])"
   ]
  },
  {
   "cell_type": "code",
   "execution_count": 53,
   "metadata": {},
   "outputs": [
    {
     "data": {
      "text/html": [
       "<div>\n",
       "<style scoped>\n",
       "    .dataframe tbody tr th:only-of-type {\n",
       "        vertical-align: middle;\n",
       "    }\n",
       "\n",
       "    .dataframe tbody tr th {\n",
       "        vertical-align: top;\n",
       "    }\n",
       "\n",
       "    .dataframe thead th {\n",
       "        text-align: right;\n",
       "    }\n",
       "</style>\n",
       "<table border=\"1\" class=\"dataframe\">\n",
       "  <thead>\n",
       "    <tr style=\"text-align: right;\">\n",
       "      <th></th>\n",
       "      <th>age</th>\n",
       "      <th>hp_kW</th>\n",
       "      <th>km</th>\n",
       "      <th>Gearing_Type</th>\n",
       "      <th>make_model</th>\n",
       "    </tr>\n",
       "  </thead>\n",
       "  <tbody>\n",
       "    <tr>\n",
       "      <th>0</th>\n",
       "      <td>2</td>\n",
       "      <td>105</td>\n",
       "      <td>100000</td>\n",
       "      <td>Automatic</td>\n",
       "      <td>Audi A3</td>\n",
       "    </tr>\n",
       "  </tbody>\n",
       "</table>\n",
       "</div>"
      ],
      "text/plain": [
       "   age  hp_kW      km Gearing_Type make_model\n",
       "0    2    105  100000    Automatic    Audi A3"
      ]
     },
     "execution_count": 53,
     "metadata": {},
     "output_type": "execute_result"
    }
   ],
   "source": [
    "df.head()"
   ]
  },
  {
   "cell_type": "code",
   "execution_count": 54,
   "metadata": {},
   "outputs": [],
   "source": [
    "df2 = de08_transformer.transform(df)"
   ]
  },
  {
   "cell_type": "code",
   "execution_count": 55,
   "metadata": {},
   "outputs": [
    {
     "data": {
      "text/plain": [
       "0         0.0\n",
       "1         1.0\n",
       "2         2.0\n",
       "3       105.0\n",
       "4   100,000.0\n",
       "dtype: float64"
      ]
     },
     "execution_count": 55,
     "metadata": {},
     "output_type": "execute_result"
    }
   ],
   "source": [
    "pd.Series(df2[0])"
   ]
  },
  {
   "cell_type": "code",
   "execution_count": 56,
   "metadata": {},
   "outputs": [
    {
     "data": {
      "text/plain": [
       "array([19184.18])"
      ]
     },
     "execution_count": 56,
     "metadata": {},
     "output_type": "execute_result"
    }
   ],
   "source": [
    "prediction = de08_model.predict(df2)\n",
    "prediction"
   ]
  },
  {
   "cell_type": "code",
   "execution_count": 57,
   "metadata": {},
   "outputs": [
    {
     "name": "stdout",
     "output_type": "stream",
     "text": [
      "The estimated price of your car is €19184. \n"
     ]
    }
   ],
   "source": [
    "print(\"The estimated price of your car is €{}. \".format(int(prediction[0])))"
   ]
  },
  {
   "cell_type": "code",
   "execution_count": 65,
   "metadata": {},
   "outputs": [
    {
     "name": "stdout",
     "output_type": "stream",
     "text": [
      "^C\n"
     ]
    }
   ],
   "source": [
    "# !streamlit run my_app.py"
   ]
  },
  {
   "cell_type": "code",
   "execution_count": null,
   "metadata": {},
   "outputs": [],
   "source": []
  }
 ],
 "metadata": {
  "colab": {
   "collapsed_sections": [],
   "name": "modeling_auto_scout.ipynb",
   "provenance": []
  },
  "kernelspec": {
   "display_name": "env_c12",
   "language": "python",
   "name": "python3"
  },
  "language_info": {
   "codemirror_mode": {
    "name": "ipython",
    "version": 3
   },
   "file_extension": ".py",
   "mimetype": "text/x-python",
   "name": "python",
   "nbconvert_exporter": "python",
   "pygments_lexer": "ipython3",
   "version": "3.10.11"
  },
  "toc": {
   "base_numbering": 1,
   "nav_menu": {},
   "number_sections": true,
   "sideBar": true,
   "skip_h1_title": false,
   "title_cell": "Table of Contents",
   "title_sidebar": "Contents",
   "toc_cell": false,
   "toc_position": {},
   "toc_section_display": true,
   "toc_window_display": false
  },
  "vscode": {
   "interpreter": {
    "hash": "8758d87ac3f839d12c7166ece8445d39e338bce7af4952706c2ca4d50af5bbcf"
   }
  }
 },
 "nbformat": 4,
 "nbformat_minor": 4
}
